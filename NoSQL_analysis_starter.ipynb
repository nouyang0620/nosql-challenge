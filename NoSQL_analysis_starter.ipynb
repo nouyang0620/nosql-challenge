{
 "cells": [
  {
   "cell_type": "markdown",
   "id": "a740bfdc",
   "metadata": {},
   "source": [
    "# Eat Safe, Love"
   ]
  },
  {
   "cell_type": "markdown",
   "id": "234d6d01",
   "metadata": {},
   "source": [
    "## Notebook Set Up"
   ]
  },
  {
   "cell_type": "code",
   "execution_count": 30,
   "id": "f8a6eaff",
   "metadata": {},
   "outputs": [],
   "source": [
    "# Import dependencies\n",
    "from pymongo import MongoClient\n",
    "from pprint import pprint\n",
    "import pandas as pd"
   ]
  },
  {
   "cell_type": "code",
   "execution_count": 31,
   "id": "7766f169",
   "metadata": {},
   "outputs": [],
   "source": [
    "# Create an instance of MongoClient\n",
    "mongo = MongoClient(port=27017)"
   ]
  },
  {
   "cell_type": "code",
   "execution_count": 32,
   "id": "a8dbdf21",
   "metadata": {},
   "outputs": [],
   "source": [
    "# assign the uk_food database to a variable name\n",
    "db = mongo['uk_food']"
   ]
  },
  {
   "cell_type": "code",
   "execution_count": 33,
   "id": "0e481b94",
   "metadata": {},
   "outputs": [
    {
     "name": "stdout",
     "output_type": "stream",
     "text": [
      "['establishments']\n"
     ]
    }
   ],
   "source": [
    "# review the collections in our database\n",
    "print(db.list_collection_names())"
   ]
  },
  {
   "cell_type": "code",
   "execution_count": 34,
   "id": "07d6e3f3",
   "metadata": {},
   "outputs": [],
   "source": [
    "# assign the collection to a variable\n",
    "establishments = db['establishments']"
   ]
  },
  {
   "cell_type": "code",
   "execution_count": 35,
   "id": "1fefcefc",
   "metadata": {},
   "outputs": [
    {
     "name": "stdout",
     "output_type": "stream",
     "text": [
      "{'AddressLine1': 'East Cliff Pavilion',\n",
      " 'AddressLine2': 'Wear Bay Road',\n",
      " 'AddressLine3': 'Folkestone',\n",
      " 'AddressLine4': 'Kent',\n",
      " 'BusinessName': 'The Pavilion',\n",
      " 'BusinessType': 'Restaurant/Cafe/Canteen',\n",
      " 'BusinessTypeID': 1,\n",
      " 'ChangesByServerID': 0,\n",
      " 'Distance': 4591.765489457773,\n",
      " 'FHRSID': 1043695,\n",
      " 'LocalAuthorityBusinessID': 'PI/000073616',\n",
      " 'LocalAuthorityCode': '188',\n",
      " 'LocalAuthorityEmailAddress': 'foodteam@folkestone-hythe.gov.uk',\n",
      " 'LocalAuthorityName': 'Folkestone and Hythe',\n",
      " 'LocalAuthorityWebSite': 'http://www.folkestone-hythe.gov.uk',\n",
      " 'NewRatingPending': False,\n",
      " 'Phone': '',\n",
      " 'PostCode': 'CT19 6BL',\n",
      " 'RatingDate': '2018-04-04T00:00:00',\n",
      " 'RatingKey': 'fhrs_5_en-gb',\n",
      " 'RatingValue': '5',\n",
      " 'RightToReply': '',\n",
      " 'SchemeType': 'FHRS',\n",
      " '_id': ObjectId('63cb583235023a8c28e754a6'),\n",
      " 'geocode': {'latitude': Decimal128('51.083812'),\n",
      "             'longitude': Decimal128('1.19562500000000')},\n",
      " 'links': [{'href': 'https://api.ratings.food.gov.uk/establishments/1043695',\n",
      "            'rel': 'self'}],\n",
      " 'meta': {'dataSource': None,\n",
      "          'extractDate': '0001-01-01T00:00:00',\n",
      "          'itemCount': 0,\n",
      "          'pageNumber': 0,\n",
      "          'pageSize': 0,\n",
      "          'returncode': None,\n",
      "          'totalCount': 0,\n",
      "          'totalPages': 0},\n",
      " 'scores': {'ConfidenceInManagement': 5, 'Hygiene': 5, 'Structural': 5}}\n"
     ]
    }
   ],
   "source": [
    "# can delete\n",
    "pprint(db.establishments.find_one())"
   ]
  },
  {
   "cell_type": "markdown",
   "id": "7873e94f",
   "metadata": {},
   "source": [
    "## Part 3: Exploratory Analysis\n",
    "Unless otherwise stated, for each question: \n",
    "* Use `count_documents` to display the number of documents contained in the result.\n",
    "* Display the first document in the results using `pprint`.\n",
    "* Convert the result to a Pandas DataFrame, print the number of rows in the DataFrame, and display the first 10 rows."
   ]
  },
  {
   "cell_type": "markdown",
   "id": "698f11e8",
   "metadata": {},
   "source": [
    "### 1. Which establishments have a hygiene score equal to 20?"
   ]
  },
  {
   "cell_type": "code",
   "execution_count": 36,
   "id": "bfedf386",
   "metadata": {},
   "outputs": [
    {
     "name": "stdout",
     "output_type": "stream",
     "text": [
      "Number of documents with hygiene score of 20: 41\n",
      "{'BusinessName': 'Brenalwood',\n",
      " '_id': ObjectId('63cb583335023a8c28e77358'),\n",
      " 'scores': {'ConfidenceInManagement': 30, 'Hygiene': 20, 'Structural': 15}}\n"
     ]
    }
   ],
   "source": [
    "# Find the establishments with a hygiene score of 20\n",
    "query = {'scores.Hygiene': {'$eq': 20}}\n",
    "fields = {'BusinessName':1, 'scores': 1}\n",
    "\n",
    "         \n",
    "# Use count_documents to display the number of documents in the result\n",
    "results = establishments.find(query,fields)\n",
    "result_count = establishments.count_documents({'scores.Hygiene': 20})\n",
    "print('Number of documents with hygiene score of 20:', (result_count))\n",
    "\n",
    "# Display the first document in the results using pprint\n",
    "pprint(results[1])"
   ]
  },
  {
   "cell_type": "code",
   "execution_count": 37,
   "id": "3018e2d7",
   "metadata": {},
   "outputs": [
    {
     "name": "stdout",
     "output_type": "stream",
     "text": [
      "Row count is: 41\n"
     ]
    },
    {
     "data": {
      "text/html": [
       "<div>\n",
       "<style scoped>\n",
       "    .dataframe tbody tr th:only-of-type {\n",
       "        vertical-align: middle;\n",
       "    }\n",
       "\n",
       "    .dataframe tbody tr th {\n",
       "        vertical-align: top;\n",
       "    }\n",
       "\n",
       "    .dataframe thead th {\n",
       "        text-align: right;\n",
       "    }\n",
       "</style>\n",
       "<table border=\"1\" class=\"dataframe\">\n",
       "  <thead>\n",
       "    <tr style=\"text-align: right;\">\n",
       "      <th></th>\n",
       "      <th>_id</th>\n",
       "      <th>BusinessName</th>\n",
       "      <th>scores.Hygiene</th>\n",
       "      <th>scores.Structural</th>\n",
       "      <th>scores.ConfidenceInManagement</th>\n",
       "    </tr>\n",
       "  </thead>\n",
       "  <tbody>\n",
       "    <tr>\n",
       "      <th>0</th>\n",
       "      <td>63cb583335023a8c28e76fdb</td>\n",
       "      <td>The Chase Rest Home</td>\n",
       "      <td>20</td>\n",
       "      <td>20</td>\n",
       "      <td>20</td>\n",
       "    </tr>\n",
       "    <tr>\n",
       "      <th>1</th>\n",
       "      <td>63cb583335023a8c28e77358</td>\n",
       "      <td>Brenalwood</td>\n",
       "      <td>20</td>\n",
       "      <td>15</td>\n",
       "      <td>30</td>\n",
       "    </tr>\n",
       "    <tr>\n",
       "      <th>2</th>\n",
       "      <td>63cb583335023a8c28e77665</td>\n",
       "      <td>Melrose Hotel</td>\n",
       "      <td>20</td>\n",
       "      <td>20</td>\n",
       "      <td>20</td>\n",
       "    </tr>\n",
       "    <tr>\n",
       "      <th>3</th>\n",
       "      <td>63cb583335023a8c28e77853</td>\n",
       "      <td>Seaford Pizza</td>\n",
       "      <td>20</td>\n",
       "      <td>10</td>\n",
       "      <td>20</td>\n",
       "    </tr>\n",
       "    <tr>\n",
       "      <th>4</th>\n",
       "      <td>63cb583335023a8c28e7785e</td>\n",
       "      <td>Golden Palace</td>\n",
       "      <td>20</td>\n",
       "      <td>10</td>\n",
       "      <td>20</td>\n",
       "    </tr>\n",
       "    <tr>\n",
       "      <th>5</th>\n",
       "      <td>63cb583335023a8c28e78213</td>\n",
       "      <td>Ashby's Butchers</td>\n",
       "      <td>20</td>\n",
       "      <td>20</td>\n",
       "      <td>20</td>\n",
       "    </tr>\n",
       "    <tr>\n",
       "      <th>6</th>\n",
       "      <td>63cb583335023a8c28e78422</td>\n",
       "      <td>South Sea Express Cuisine</td>\n",
       "      <td>20</td>\n",
       "      <td>20</td>\n",
       "      <td>20</td>\n",
       "    </tr>\n",
       "    <tr>\n",
       "      <th>7</th>\n",
       "      <td>63cb583335023a8c28e79947</td>\n",
       "      <td>Golden Palace</td>\n",
       "      <td>20</td>\n",
       "      <td>15</td>\n",
       "      <td>30</td>\n",
       "    </tr>\n",
       "    <tr>\n",
       "      <th>8</th>\n",
       "      <td>63cb583335023a8c28e79d8b</td>\n",
       "      <td>The Tulip Tree</td>\n",
       "      <td>20</td>\n",
       "      <td>5</td>\n",
       "      <td>20</td>\n",
       "    </tr>\n",
       "    <tr>\n",
       "      <th>9</th>\n",
       "      <td>63cb583335023a8c28e7a5a3</td>\n",
       "      <td>F &amp; S</td>\n",
       "      <td>20</td>\n",
       "      <td>20</td>\n",
       "      <td>20</td>\n",
       "    </tr>\n",
       "  </tbody>\n",
       "</table>\n",
       "</div>"
      ],
      "text/plain": [
       "                        _id               BusinessName  scores.Hygiene  \\\n",
       "0  63cb583335023a8c28e76fdb        The Chase Rest Home              20   \n",
       "1  63cb583335023a8c28e77358                 Brenalwood              20   \n",
       "2  63cb583335023a8c28e77665              Melrose Hotel              20   \n",
       "3  63cb583335023a8c28e77853              Seaford Pizza              20   \n",
       "4  63cb583335023a8c28e7785e              Golden Palace              20   \n",
       "5  63cb583335023a8c28e78213           Ashby's Butchers              20   \n",
       "6  63cb583335023a8c28e78422  South Sea Express Cuisine              20   \n",
       "7  63cb583335023a8c28e79947              Golden Palace              20   \n",
       "8  63cb583335023a8c28e79d8b             The Tulip Tree              20   \n",
       "9  63cb583335023a8c28e7a5a3                      F & S              20   \n",
       "\n",
       "   scores.Structural  scores.ConfidenceInManagement  \n",
       "0                 20                             20  \n",
       "1                 15                             30  \n",
       "2                 20                             20  \n",
       "3                 10                             20  \n",
       "4                 10                             20  \n",
       "5                 20                             20  \n",
       "6                 20                             20  \n",
       "7                 15                             30  \n",
       "8                  5                             20  \n",
       "9                 20                             20  "
      ]
     },
     "execution_count": 37,
     "metadata": {},
     "output_type": "execute_result"
    }
   ],
   "source": [
    "# Convert the result to a Pandas DataFrame\n",
    "hygiene_results = pd.json_normalize(results)\n",
    "\n",
    "# Display the number of rows in the DataFrame\n",
    "print('Row count is:', len(hygiene_results.axes[0]))\n",
    "      \n",
    "# Display the first 10 rows of the DataFrame\n",
    "hygiene_results.head(10)"
   ]
  },
  {
   "cell_type": "markdown",
   "id": "5b9e5e89",
   "metadata": {},
   "source": [
    "### 2. Which establishments in London have a `RatingValue` greater than or equal to 4?"
   ]
  },
  {
   "cell_type": "code",
   "execution_count": 46,
   "id": "3dbe0519",
   "metadata": {},
   "outputs": [
    {
     "name": "stdout",
     "output_type": "stream",
     "text": [
      "Number of documents: 34\n",
      "{'BusinessName': \"Charlie's\",\n",
      " 'LocalAuthorityName': 'City of London Corporation',\n",
      " 'RatingValue': '4',\n",
      " '_id': ObjectId('63cb583335023a8c28e789f4')}\n"
     ]
    }
   ],
   "source": [
    "# Find the establishments with London as the Local Authority and has a RatingValue greater than or equal to 4.\n",
    "query ={'LocalAuthorityName': {'$regex': \"London\"},\n",
    "        'RatingValue': {'$gte': '4'}}\n",
    "\n",
    "fields = {'BusinessName':1, 'LocalAuthorityName': 1, 'RatingValue': 1}\n",
    "\n",
    "# Use count_documents to display the number of documents in the result\n",
    "results = establishments.find(query,fields)\n",
    "result_count = establishments.count_documents(query)\n",
    "print('Number of documents:',(result_count))\n",
    "\n",
    "# Display the first document in the results using pprint\n",
    "pprint(results[0])"
   ]
  },
  {
   "cell_type": "code",
   "execution_count": 47,
   "id": "4f5b266e",
   "metadata": {
    "scrolled": true
   },
   "outputs": [
    {
     "name": "stdout",
     "output_type": "stream",
     "text": [
      "Row count is: 34\n"
     ]
    },
    {
     "data": {
      "text/html": [
       "<div>\n",
       "<style scoped>\n",
       "    .dataframe tbody tr th:only-of-type {\n",
       "        vertical-align: middle;\n",
       "    }\n",
       "\n",
       "    .dataframe tbody tr th {\n",
       "        vertical-align: top;\n",
       "    }\n",
       "\n",
       "    .dataframe thead th {\n",
       "        text-align: right;\n",
       "    }\n",
       "</style>\n",
       "<table border=\"1\" class=\"dataframe\">\n",
       "  <thead>\n",
       "    <tr style=\"text-align: right;\">\n",
       "      <th></th>\n",
       "      <th>_id</th>\n",
       "      <th>BusinessName</th>\n",
       "      <th>RatingValue</th>\n",
       "      <th>LocalAuthorityName</th>\n",
       "    </tr>\n",
       "  </thead>\n",
       "  <tbody>\n",
       "    <tr>\n",
       "      <th>0</th>\n",
       "      <td>63cb583335023a8c28e789f4</td>\n",
       "      <td>Charlie's</td>\n",
       "      <td>4</td>\n",
       "      <td>City of London Corporation</td>\n",
       "    </tr>\n",
       "    <tr>\n",
       "      <th>1</th>\n",
       "      <td>63cb583335023a8c28e78d1b</td>\n",
       "      <td>Mv City Cruises Erasmus</td>\n",
       "      <td>5</td>\n",
       "      <td>City of London Corporation</td>\n",
       "    </tr>\n",
       "    <tr>\n",
       "      <th>2</th>\n",
       "      <td>63cb583335023a8c28e79867</td>\n",
       "      <td>Benfleet Motor Yacht Club</td>\n",
       "      <td>4</td>\n",
       "      <td>City of London Corporation</td>\n",
       "    </tr>\n",
       "    <tr>\n",
       "      <th>3</th>\n",
       "      <td>63cb583335023a8c28e7a664</td>\n",
       "      <td>Tilbury Seafarers Centre</td>\n",
       "      <td>5</td>\n",
       "      <td>City of London Corporation</td>\n",
       "    </tr>\n",
       "    <tr>\n",
       "      <th>4</th>\n",
       "      <td>63cb583335023a8c28e7a66c</td>\n",
       "      <td>Coombs Catering t/a The Lock and Key</td>\n",
       "      <td>5</td>\n",
       "      <td>City of London Corporation</td>\n",
       "    </tr>\n",
       "    <tr>\n",
       "      <th>5</th>\n",
       "      <td>63cb583335023a8c28e7ad6e</td>\n",
       "      <td>Mv Valulla</td>\n",
       "      <td>5</td>\n",
       "      <td>City of London Corporation</td>\n",
       "    </tr>\n",
       "    <tr>\n",
       "      <th>6</th>\n",
       "      <td>63cb583435023a8c28e7ce7c</td>\n",
       "      <td>Tereza Joanne</td>\n",
       "      <td>5</td>\n",
       "      <td>City of London Corporation</td>\n",
       "    </tr>\n",
       "    <tr>\n",
       "      <th>7</th>\n",
       "      <td>63cb583435023a8c28e7ce82</td>\n",
       "      <td>Froottree</td>\n",
       "      <td>AwaitingInspection</td>\n",
       "      <td>City of London Corporation</td>\n",
       "    </tr>\n",
       "    <tr>\n",
       "      <th>8</th>\n",
       "      <td>63cb583435023a8c28e7d248</td>\n",
       "      <td>Brick Lane Brews</td>\n",
       "      <td>4</td>\n",
       "      <td>City of London Corporation</td>\n",
       "    </tr>\n",
       "    <tr>\n",
       "      <th>9</th>\n",
       "      <td>63cb583435023a8c28e7d25a</td>\n",
       "      <td>The Nuance Group (UK) Limited</td>\n",
       "      <td>5</td>\n",
       "      <td>City of London Corporation</td>\n",
       "    </tr>\n",
       "  </tbody>\n",
       "</table>\n",
       "</div>"
      ],
      "text/plain": [
       "                        _id                          BusinessName  \\\n",
       "0  63cb583335023a8c28e789f4                             Charlie's   \n",
       "1  63cb583335023a8c28e78d1b               Mv City Cruises Erasmus   \n",
       "2  63cb583335023a8c28e79867             Benfleet Motor Yacht Club   \n",
       "3  63cb583335023a8c28e7a664              Tilbury Seafarers Centre   \n",
       "4  63cb583335023a8c28e7a66c  Coombs Catering t/a The Lock and Key   \n",
       "5  63cb583335023a8c28e7ad6e                            Mv Valulla   \n",
       "6  63cb583435023a8c28e7ce7c                         Tereza Joanne   \n",
       "7  63cb583435023a8c28e7ce82                             Froottree   \n",
       "8  63cb583435023a8c28e7d248                      Brick Lane Brews   \n",
       "9  63cb583435023a8c28e7d25a         The Nuance Group (UK) Limited   \n",
       "\n",
       "          RatingValue          LocalAuthorityName  \n",
       "0                   4  City of London Corporation  \n",
       "1                   5  City of London Corporation  \n",
       "2                   4  City of London Corporation  \n",
       "3                   5  City of London Corporation  \n",
       "4                   5  City of London Corporation  \n",
       "5                   5  City of London Corporation  \n",
       "6                   5  City of London Corporation  \n",
       "7  AwaitingInspection  City of London Corporation  \n",
       "8                   4  City of London Corporation  \n",
       "9                   5  City of London Corporation  "
      ]
     },
     "execution_count": 47,
     "metadata": {},
     "output_type": "execute_result"
    }
   ],
   "source": [
    "# Convert the result to a Pandas DataFrame\n",
    "london_rating = pd.json_normalize(results)\n",
    "\n",
    "# Display the number of rows in the DataFrame\n",
    "print('Row count is:', len(london_rating.axes[0]))\n",
    "\n",
    "# Display the first 10 rows of the DataFrame\n",
    "london_rating.head(10)\n"
   ]
  },
  {
   "cell_type": "markdown",
   "id": "3c60677e",
   "metadata": {},
   "source": [
    "### 3. What are the top 5 establishments with a `RatingValue` rating value of '5', sorted by lowest hygiene score, nearest to the new restaurant added, \"Penang Flavours\"?"
   ]
  },
  {
   "cell_type": "code",
   "execution_count": 63,
   "id": "38aa9b08",
   "metadata": {},
   "outputs": [
    {
     "name": "stdout",
     "output_type": "stream",
     "text": [
      "[{'BusinessName': 'Volunteer',\n",
      "  'RatingValue': '5',\n",
      "  '_id': ObjectId('63cb583435023a8c28e7c838'),\n",
      "  'scores': {'ConfidenceInManagement': 0, 'Hygiene': 0, 'Structural': 0}},\n",
      " {'BusinessName': 'Plumstead Manor Nursery',\n",
      "  'RatingValue': '5',\n",
      "  '_id': ObjectId('63cb583435023a8c28e7c84e'),\n",
      "  'scores': {'ConfidenceInManagement': 5, 'Hygiene': 0, 'Structural': 0}},\n",
      " {'BusinessName': 'Atlantic Fish Bar',\n",
      "  'RatingValue': '5',\n",
      "  '_id': ObjectId('63cb583435023a8c28e7c851'),\n",
      "  'scores': {'ConfidenceInManagement': 5, 'Hygiene': 0, 'Structural': 0}},\n",
      " {'BusinessName': 'Iceland',\n",
      "  'RatingValue': '5',\n",
      "  '_id': ObjectId('63cb583435023a8c28e7c80a'),\n",
      "  'scores': {'ConfidenceInManagement': 5, 'Hygiene': 0, 'Structural': 5}},\n",
      " {'BusinessName': 'Howe and Co Fish and Chips - Van 17',\n",
      "  'RatingValue': '5',\n",
      "  '_id': ObjectId('63cb583435023a8c28e7c819'),\n",
      "  'scores': {'ConfidenceInManagement': 0, 'Hygiene': 0, 'Structural': 0}}]\n"
     ]
    }
   ],
   "source": [
    "# Search within 0.01 degree on either side of the latitude and longitude.\n",
    "# Rating value must equal 5\n",
    "# Sort by hygiene score\n",
    "\n",
    "degree_search = 0.01\n",
    "longitude = 0.08384\n",
    "latitude = 51.490142 \n",
    "\n",
    "query = {\"geocode.latitude\":{\"$gte\": latitude-degree_search, '$lte': latitude+degree_search},\n",
    "        \"geocode.longitude\":{\"$gte\": longitude-degree_search, '$lte': longitude+degree_search},\n",
    "        'RatingValue': '5'}\n",
    "\n",
    "fields = {'BusinessName': 1, 'RatingValue': 1, 'scores': 1}\n",
    "sort =  [('scores.Hygiene', 1)]\n",
    "limit = 5\n",
    "\n",
    "results = list(establishments.find(query, fields).sort(sort).limit(limit))\n",
    "\n",
    "# Print the results\n",
    "pprint(results)"
   ]
  },
  {
   "cell_type": "code",
   "execution_count": 64,
   "id": "4665ad50",
   "metadata": {},
   "outputs": [
    {
     "data": {
      "text/html": [
       "<div>\n",
       "<style scoped>\n",
       "    .dataframe tbody tr th:only-of-type {\n",
       "        vertical-align: middle;\n",
       "    }\n",
       "\n",
       "    .dataframe tbody tr th {\n",
       "        vertical-align: top;\n",
       "    }\n",
       "\n",
       "    .dataframe thead th {\n",
       "        text-align: right;\n",
       "    }\n",
       "</style>\n",
       "<table border=\"1\" class=\"dataframe\">\n",
       "  <thead>\n",
       "    <tr style=\"text-align: right;\">\n",
       "      <th></th>\n",
       "      <th>_id</th>\n",
       "      <th>BusinessName</th>\n",
       "      <th>RatingValue</th>\n",
       "      <th>scores.Hygiene</th>\n",
       "      <th>scores.Structural</th>\n",
       "      <th>scores.ConfidenceInManagement</th>\n",
       "    </tr>\n",
       "  </thead>\n",
       "  <tbody>\n",
       "    <tr>\n",
       "      <th>0</th>\n",
       "      <td>63cb583435023a8c28e7c838</td>\n",
       "      <td>Volunteer</td>\n",
       "      <td>5</td>\n",
       "      <td>0</td>\n",
       "      <td>0</td>\n",
       "      <td>0</td>\n",
       "    </tr>\n",
       "    <tr>\n",
       "      <th>1</th>\n",
       "      <td>63cb583435023a8c28e7c84e</td>\n",
       "      <td>Plumstead Manor Nursery</td>\n",
       "      <td>5</td>\n",
       "      <td>0</td>\n",
       "      <td>0</td>\n",
       "      <td>5</td>\n",
       "    </tr>\n",
       "    <tr>\n",
       "      <th>2</th>\n",
       "      <td>63cb583435023a8c28e7c851</td>\n",
       "      <td>Atlantic Fish Bar</td>\n",
       "      <td>5</td>\n",
       "      <td>0</td>\n",
       "      <td>0</td>\n",
       "      <td>5</td>\n",
       "    </tr>\n",
       "    <tr>\n",
       "      <th>3</th>\n",
       "      <td>63cb583435023a8c28e7c80a</td>\n",
       "      <td>Iceland</td>\n",
       "      <td>5</td>\n",
       "      <td>0</td>\n",
       "      <td>5</td>\n",
       "      <td>5</td>\n",
       "    </tr>\n",
       "    <tr>\n",
       "      <th>4</th>\n",
       "      <td>63cb583435023a8c28e7c819</td>\n",
       "      <td>Howe and Co Fish and Chips - Van 17</td>\n",
       "      <td>5</td>\n",
       "      <td>0</td>\n",
       "      <td>0</td>\n",
       "      <td>0</td>\n",
       "    </tr>\n",
       "  </tbody>\n",
       "</table>\n",
       "</div>"
      ],
      "text/plain": [
       "                        _id                         BusinessName RatingValue  \\\n",
       "0  63cb583435023a8c28e7c838                            Volunteer           5   \n",
       "1  63cb583435023a8c28e7c84e              Plumstead Manor Nursery           5   \n",
       "2  63cb583435023a8c28e7c851                    Atlantic Fish Bar           5   \n",
       "3  63cb583435023a8c28e7c80a                              Iceland           5   \n",
       "4  63cb583435023a8c28e7c819  Howe and Co Fish and Chips - Van 17           5   \n",
       "\n",
       "   scores.Hygiene  scores.Structural  scores.ConfidenceInManagement  \n",
       "0               0                  0                              0  \n",
       "1               0                  0                              5  \n",
       "2               0                  0                              5  \n",
       "3               0                  5                              5  \n",
       "4               0                  0                              0  "
      ]
     },
     "execution_count": 64,
     "metadata": {},
     "output_type": "execute_result"
    }
   ],
   "source": [
    "# Convert result to Pandas DataFrame\n",
    "establishment_results = pd.json_normalize(results)\n",
    "establishment_results.head()"
   ]
  },
  {
   "cell_type": "markdown",
   "id": "ce4f31af",
   "metadata": {},
   "source": [
    "### 4. How many establishments in each Local Authority area have a hygiene score of 0?"
   ]
  },
  {
   "cell_type": "code",
   "execution_count": 67,
   "id": "e96e5724",
   "metadata": {},
   "outputs": [
    {
     "name": "stdout",
     "output_type": "stream",
     "text": [
      "Number of documents: 55\n",
      "[{'_id': 'Thanet', 'count': 1130},\n",
      " {'_id': 'Greenwich', 'count': 882},\n",
      " {'_id': 'Maidstone', 'count': 713},\n",
      " {'_id': 'Newham', 'count': 711},\n",
      " {'_id': 'Swale', 'count': 686},\n",
      " {'_id': 'Chelmsford', 'count': 680},\n",
      " {'_id': 'Medway', 'count': 672},\n",
      " {'_id': 'Bexley', 'count': 607},\n",
      " {'_id': 'Southend-On-Sea', 'count': 586},\n",
      " {'_id': 'Tendring', 'count': 542}]\n"
     ]
    }
   ],
   "source": [
    "# Create a pipeline that: \n",
    "# 1. Matches establishments with a hygiene score of 0\n",
    "# 2. Groups the matches by Local Authority\n",
    "# 3. Sorts the matches from highest to lowest\n",
    "match_query = {'$match': {'scores.Hygiene': 0, }}\n",
    "group = {'$group': {'_id': \"$LocalAuthorityName\", 'count': {'$sum': 1}}}\n",
    "sort = {'$sort': {'count': -1}}\n",
    "\n",
    "pipeline = [match_query, group, sort]\n",
    "\n",
    "# Print the number of documents in the result\n",
    "results = list(establishments.aggregate(pipeline))\n",
    "print('Number of documents:', len(results))\n",
    "\n",
    "# Print the first 10 results\n",
    "pprint(results[0:10])"
   ]
  },
  {
   "cell_type": "code",
   "execution_count": 68,
   "id": "83eaf7d8",
   "metadata": {},
   "outputs": [
    {
     "name": "stdout",
     "output_type": "stream",
     "text": [
      "Row count is: 55\n"
     ]
    },
    {
     "data": {
      "text/html": [
       "<div>\n",
       "<style scoped>\n",
       "    .dataframe tbody tr th:only-of-type {\n",
       "        vertical-align: middle;\n",
       "    }\n",
       "\n",
       "    .dataframe tbody tr th {\n",
       "        vertical-align: top;\n",
       "    }\n",
       "\n",
       "    .dataframe thead th {\n",
       "        text-align: right;\n",
       "    }\n",
       "</style>\n",
       "<table border=\"1\" class=\"dataframe\">\n",
       "  <thead>\n",
       "    <tr style=\"text-align: right;\">\n",
       "      <th></th>\n",
       "      <th>_id</th>\n",
       "      <th>count</th>\n",
       "    </tr>\n",
       "  </thead>\n",
       "  <tbody>\n",
       "    <tr>\n",
       "      <th>0</th>\n",
       "      <td>Thanet</td>\n",
       "      <td>1130</td>\n",
       "    </tr>\n",
       "    <tr>\n",
       "      <th>1</th>\n",
       "      <td>Greenwich</td>\n",
       "      <td>882</td>\n",
       "    </tr>\n",
       "    <tr>\n",
       "      <th>2</th>\n",
       "      <td>Maidstone</td>\n",
       "      <td>713</td>\n",
       "    </tr>\n",
       "    <tr>\n",
       "      <th>3</th>\n",
       "      <td>Newham</td>\n",
       "      <td>711</td>\n",
       "    </tr>\n",
       "    <tr>\n",
       "      <th>4</th>\n",
       "      <td>Swale</td>\n",
       "      <td>686</td>\n",
       "    </tr>\n",
       "    <tr>\n",
       "      <th>5</th>\n",
       "      <td>Chelmsford</td>\n",
       "      <td>680</td>\n",
       "    </tr>\n",
       "    <tr>\n",
       "      <th>6</th>\n",
       "      <td>Medway</td>\n",
       "      <td>672</td>\n",
       "    </tr>\n",
       "    <tr>\n",
       "      <th>7</th>\n",
       "      <td>Bexley</td>\n",
       "      <td>607</td>\n",
       "    </tr>\n",
       "    <tr>\n",
       "      <th>8</th>\n",
       "      <td>Southend-On-Sea</td>\n",
       "      <td>586</td>\n",
       "    </tr>\n",
       "    <tr>\n",
       "      <th>9</th>\n",
       "      <td>Tendring</td>\n",
       "      <td>542</td>\n",
       "    </tr>\n",
       "  </tbody>\n",
       "</table>\n",
       "</div>"
      ],
      "text/plain": [
       "               _id  count\n",
       "0           Thanet   1130\n",
       "1        Greenwich    882\n",
       "2        Maidstone    713\n",
       "3           Newham    711\n",
       "4            Swale    686\n",
       "5       Chelmsford    680\n",
       "6           Medway    672\n",
       "7           Bexley    607\n",
       "8  Southend-On-Sea    586\n",
       "9         Tendring    542"
      ]
     },
     "execution_count": 68,
     "metadata": {},
     "output_type": "execute_result"
    }
   ],
   "source": [
    "# Convert the result to a Pandas DataFrame\n",
    "zero_hygiene = pd.json_normalize(results)\n",
    "\n",
    "# Display the number of rows in the DataFrame\n",
    "print('Row count is:', len(zero_hygiene.axes[0]))\n",
    "\n",
    "# Display the first 10 rows of the DataFrame\n",
    "zero_hygiene.head(10)\n"
   ]
  }
 ],
 "metadata": {
  "kernelspec": {
   "display_name": "Python 3 (ipykernel)",
   "language": "python",
   "name": "python3"
  },
  "language_info": {
   "codemirror_mode": {
    "name": "ipython",
    "version": 3
   },
   "file_extension": ".py",
   "mimetype": "text/x-python",
   "name": "python",
   "nbconvert_exporter": "python",
   "pygments_lexer": "ipython3",
   "version": "3.7.7"
  }
 },
 "nbformat": 4,
 "nbformat_minor": 5
}
